{
 "cells": [
  {
   "cell_type": "code",
   "execution_count": 1,
   "metadata": {},
   "outputs": [
    {
     "name": "stdout",
     "output_type": "stream",
     "text": [
      "<sqlite3.Cursor object at 0x0000024DF4869EC0>\n"
     ]
    }
   ],
   "source": [
    "import sqlite3\n",
    "\n",
    "database = sqlite3.connect(\"database.db\")\n",
    "cursor = database.cursor()\n",
    "\n",
    "print(cursor)"
   ]
  },
  {
   "cell_type": "code",
   "execution_count": 2,
   "metadata": {},
   "outputs": [],
   "source": [
    "query_create_table = '''\n",
    "CREATE TABLE IF NOT EXISTS students (\n",
    "  id INTEGER PRIMARY KEY AUTOINCREMENT,\n",
    "  name TEXT NOT NULL,\n",
    "  age INTEGER NOT NULL\n",
    ")\n",
    "''' \n",
    "\n",
    "cursor.execute(query_create_table)\n",
    "database.commit()"
   ]
  },
  {
   "cell_type": "code",
   "execution_count": 3,
   "metadata": {},
   "outputs": [],
   "source": [
    "query_insert_data = '''\n",
    "INSERT INTO students (name, age)\n",
    "VALUES\n",
    "  ('Alice', 20),\n",
    "  ('Bob', 22),\n",
    "  ('Arnold', 35)\n",
    "'''\n",
    "\n",
    "cursor.execute(query_insert_data)\n",
    "database.commit()"
   ]
  },
  {
   "cell_type": "code",
   "execution_count": 4,
   "metadata": {},
   "outputs": [
    {
     "name": "stdout",
     "output_type": "stream",
     "text": [
      "[(1, 'Alice', 20), (2, 'Bob', 22), (3, 'Arnold', 35), (4, 'Alice', 20), (5, 'Bob', 22), (6, 'Arnold', 35)]\n",
      "['id', 'name', 'age']\n"
     ]
    }
   ],
   "source": [
    "query_select_data = '''\n",
    "SELECT * FROM students\n",
    "'''\n",
    "\n",
    "cursor.execute(query_select_data)\n",
    "students = cursor.fetchall()\n",
    "print(students)\n",
    "\n",
    "name_columns = [name[0] for name in cursor.description]\n",
    "print(name_columns)"
   ]
  },
  {
   "cell_type": "code",
   "execution_count": 5,
   "metadata": {},
   "outputs": [
    {
     "name": "stdout",
     "output_type": "stream",
     "text": [
      "[(25.666666666666668,)]\n"
     ]
    }
   ],
   "source": [
    "query_select_avg = '''\n",
    "SELECT AVG(age) FROM students\n",
    "'''\n",
    "\n",
    "cursor.execute(query_select_avg)\n",
    "ageAVG = cursor.fetchall()\n",
    "print(ageAVG)"
   ]
  },
  {
   "cell_type": "code",
   "execution_count": 6,
   "metadata": {},
   "outputs": [
    {
     "name": "stdout",
     "output_type": "stream",
     "text": [
      "ID: 1, Name: Alice, Age: 20\n",
      "ID: 2, Name: Bob, Age: 22\n",
      "ID: 3, Name: Arnold, Age: 35\n",
      "ID: 4, Name: Alice, Age: 20\n",
      "ID: 5, Name: Bob, Age: 22\n",
      "ID: 6, Name: Arnold, Age: 35\n"
     ]
    }
   ],
   "source": [
    "for student in students:\n",
    "  print(f\"ID: {student[0]}, Name: {student[1]}, Age: {student[2]}\")\n",
    "\n",
    "cursor.close()\n",
    "database.close()"
   ]
  },
  {
   "cell_type": "code",
   "execution_count": 10,
   "metadata": {},
   "outputs": [
    {
     "data": {
      "text/html": [
       "<div>\n",
       "<style scoped>\n",
       "    .dataframe tbody tr th:only-of-type {\n",
       "        vertical-align: middle;\n",
       "    }\n",
       "\n",
       "    .dataframe tbody tr th {\n",
       "        vertical-align: top;\n",
       "    }\n",
       "\n",
       "    .dataframe thead th {\n",
       "        text-align: right;\n",
       "    }\n",
       "</style>\n",
       "<table border=\"1\" class=\"dataframe\">\n",
       "  <thead>\n",
       "    <tr style=\"text-align: right;\">\n",
       "      <th></th>\n",
       "      <th>ID</th>\n",
       "      <th>Name</th>\n",
       "      <th>Age</th>\n",
       "    </tr>\n",
       "  </thead>\n",
       "  <tbody>\n",
       "    <tr>\n",
       "      <th>0</th>\n",
       "      <td>1</td>\n",
       "      <td>Alice</td>\n",
       "      <td>20</td>\n",
       "    </tr>\n",
       "    <tr>\n",
       "      <th>1</th>\n",
       "      <td>2</td>\n",
       "      <td>Bob</td>\n",
       "      <td>22</td>\n",
       "    </tr>\n",
       "    <tr>\n",
       "      <th>2</th>\n",
       "      <td>3</td>\n",
       "      <td>Arnold</td>\n",
       "      <td>35</td>\n",
       "    </tr>\n",
       "    <tr>\n",
       "      <th>3</th>\n",
       "      <td>4</td>\n",
       "      <td>Alice</td>\n",
       "      <td>20</td>\n",
       "    </tr>\n",
       "    <tr>\n",
       "      <th>4</th>\n",
       "      <td>5</td>\n",
       "      <td>Bob</td>\n",
       "      <td>22</td>\n",
       "    </tr>\n",
       "  </tbody>\n",
       "</table>\n",
       "</div>"
      ],
      "text/plain": [
       "   ID    Name  Age\n",
       "0   1   Alice   20\n",
       "1   2     Bob   22\n",
       "2   3  Arnold   35\n",
       "3   4   Alice   20\n",
       "4   5     Bob   22"
      ]
     },
     "execution_count": 10,
     "metadata": {},
     "output_type": "execute_result"
    }
   ],
   "source": [
    "import pandas as pd\n",
    "\n",
    "dataf = pd.DataFrame(students, columns=[\"ID\", \"Name\", \"Age\"])\n",
    "\n",
    "dataf.head(5)"
   ]
  },
  {
   "cell_type": "code",
   "execution_count": 8,
   "metadata": {},
   "outputs": [
    {
     "name": "stdout",
     "output_type": "stream",
     "text": [
      "25.666666666666668\n"
     ]
    }
   ],
   "source": [
    "print(dataf[\"Age\"].mean())"
   ]
  }
 ],
 "metadata": {
  "kernelspec": {
   "display_name": "Python 3",
   "language": "python",
   "name": "python3"
  },
  "language_info": {
   "codemirror_mode": {
    "name": "ipython",
    "version": 3
   },
   "file_extension": ".py",
   "mimetype": "text/x-python",
   "name": "python",
   "nbconvert_exporter": "python",
   "pygments_lexer": "ipython3",
   "version": "3.10.11"
  },
  "orig_nbformat": 4
 },
 "nbformat": 4,
 "nbformat_minor": 2
}
