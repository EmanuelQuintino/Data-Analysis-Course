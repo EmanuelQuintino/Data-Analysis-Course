{
 "cells": [
  {
   "cell_type": "code",
   "execution_count": 59,
   "metadata": {},
   "outputs": [
    {
     "name": "stdout",
     "output_type": "stream",
     "text": [
      "<sqlite3.Cursor object at 0x0000016311772D40>\n"
     ]
    }
   ],
   "source": [
    "import sqlite3\n",
    "\n",
    "database = sqlite3.connect(\"database.db\")\n",
    "cursor = database.cursor()\n",
    "\n",
    "print(cursor)\n",
    "\n",
    "query_create_table = '''\n",
    "CREATE TABLE IF NOT EXISTS students (\n",
    "  id INTEGER PRIMARY KEY AUTOINCREMENT,\n",
    "  name TEXT NOT NULL,\n",
    "  age INTEGER NOT NULL\n",
    ")\n",
    "''' \n",
    "\n",
    "cursor.execute(query_create_table)\n",
    "database.commit()"
   ]
  },
  {
   "cell_type": "code",
   "execution_count": 60,
   "metadata": {},
   "outputs": [],
   "source": [
    "query_insert_data = '''\n",
    "INSERT INTO students (name, age)\n",
    "VALUES\n",
    "  ('Alice', 20),\n",
    "  ('Bob', 22)\n",
    "'''\n",
    "\n",
    "cursor.execute(query_insert_data)\n",
    "database.commit()"
   ]
  },
  {
   "cell_type": "code",
   "execution_count": 61,
   "metadata": {},
   "outputs": [
    {
     "name": "stdout",
     "output_type": "stream",
     "text": [
      "[(1, 'Alice', 20), (2, 'Bob', 22)]\n",
      "['id', 'name', 'age']\n"
     ]
    }
   ],
   "source": [
    "query_select_data = '''\n",
    "SELECT * FROM students\n",
    "'''\n",
    "\n",
    "cursor.execute(query_select_data)\n",
    "students = cursor.fetchall()\n",
    "print(students)\n",
    "\n",
    "name_columns = [name[0] for name in cursor.description]\n",
    "print(name_columns)"
   ]
  },
  {
   "cell_type": "code",
   "execution_count": 62,
   "metadata": {},
   "outputs": [
    {
     "name": "stdout",
     "output_type": "stream",
     "text": [
      "ID: 1, Name: Alice, Age: 20\n",
      "ID: 2, Name: Bob, Age: 22\n"
     ]
    }
   ],
   "source": [
    "for student in students:\n",
    "  print(f\"ID: {student[0]}, Name: {student[1]}, Age: {student[2]}\")\n",
    "\n",
    "cursor.close()\n",
    "database.close()"
   ]
  }
 ],
 "metadata": {
  "kernelspec": {
   "display_name": "Python 3",
   "language": "python",
   "name": "python3"
  },
  "language_info": {
   "codemirror_mode": {
    "name": "ipython",
    "version": 3
   },
   "file_extension": ".py",
   "mimetype": "text/x-python",
   "name": "python",
   "nbconvert_exporter": "python",
   "pygments_lexer": "ipython3",
   "version": "3.10.11"
  },
  "orig_nbformat": 4
 },
 "nbformat": 4,
 "nbformat_minor": 2
}
