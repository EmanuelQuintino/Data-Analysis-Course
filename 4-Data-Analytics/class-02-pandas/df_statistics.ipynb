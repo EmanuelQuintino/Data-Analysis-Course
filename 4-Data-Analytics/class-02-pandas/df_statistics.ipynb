{
 "cells": [
  {
   "cell_type": "markdown",
   "metadata": {},
   "source": [
    "## Dataframe Pandas"
   ]
  },
  {
   "cell_type": "code",
   "execution_count": 2,
   "metadata": {},
   "outputs": [],
   "source": [
    "import pandas as pd"
   ]
  },
  {
   "cell_type": "code",
   "execution_count": 3,
   "metadata": {},
   "outputs": [],
   "source": [
    "student = {\n",
    "  \"name\": [\"Emanuel\", \"Ana\", \"Joice\", \"César\", \"Pedro\", \"Jorge\", \"Clara\", \"Evelin\"], \n",
    "  \"age\": [16, 17, 16, 21, 24, 27, 17, 18], \n",
    "  \"grade\": [6, 7, 3, 2, 8, 9, 10, 4]\n",
    "}"
   ]
  },
  {
   "cell_type": "code",
   "execution_count": 4,
   "metadata": {},
   "outputs": [
    {
     "data": {
      "text/html": [
       "<div>\n",
       "<style scoped>\n",
       "    .dataframe tbody tr th:only-of-type {\n",
       "        vertical-align: middle;\n",
       "    }\n",
       "\n",
       "    .dataframe tbody tr th {\n",
       "        vertical-align: top;\n",
       "    }\n",
       "\n",
       "    .dataframe thead th {\n",
       "        text-align: right;\n",
       "    }\n",
       "</style>\n",
       "<table border=\"1\" class=\"dataframe\">\n",
       "  <thead>\n",
       "    <tr style=\"text-align: right;\">\n",
       "      <th></th>\n",
       "      <th>name</th>\n",
       "      <th>grade</th>\n",
       "      <th>age</th>\n",
       "    </tr>\n",
       "  </thead>\n",
       "  <tbody>\n",
       "    <tr>\n",
       "      <th>0</th>\n",
       "      <td>Emanuel</td>\n",
       "      <td>6</td>\n",
       "      <td>16</td>\n",
       "    </tr>\n",
       "    <tr>\n",
       "      <th>2</th>\n",
       "      <td>Joice</td>\n",
       "      <td>3</td>\n",
       "      <td>16</td>\n",
       "    </tr>\n",
       "    <tr>\n",
       "      <th>1</th>\n",
       "      <td>Ana</td>\n",
       "      <td>7</td>\n",
       "      <td>17</td>\n",
       "    </tr>\n",
       "    <tr>\n",
       "      <th>6</th>\n",
       "      <td>Clara</td>\n",
       "      <td>10</td>\n",
       "      <td>17</td>\n",
       "    </tr>\n",
       "    <tr>\n",
       "      <th>7</th>\n",
       "      <td>Evelin</td>\n",
       "      <td>4</td>\n",
       "      <td>18</td>\n",
       "    </tr>\n",
       "    <tr>\n",
       "      <th>3</th>\n",
       "      <td>César</td>\n",
       "      <td>2</td>\n",
       "      <td>21</td>\n",
       "    </tr>\n",
       "    <tr>\n",
       "      <th>4</th>\n",
       "      <td>Pedro</td>\n",
       "      <td>8</td>\n",
       "      <td>24</td>\n",
       "    </tr>\n",
       "    <tr>\n",
       "      <th>5</th>\n",
       "      <td>Jorge</td>\n",
       "      <td>9</td>\n",
       "      <td>27</td>\n",
       "    </tr>\n",
       "  </tbody>\n",
       "</table>\n",
       "</div>"
      ],
      "text/plain": [
       "      name  grade  age\n",
       "0  Emanuel      6   16\n",
       "2    Joice      3   16\n",
       "1      Ana      7   17\n",
       "6    Clara     10   17\n",
       "7   Evelin      4   18\n",
       "3    César      2   21\n",
       "4    Pedro      8   24\n",
       "5    Jorge      9   27"
      ]
     },
     "execution_count": 4,
     "metadata": {},
     "output_type": "execute_result"
    }
   ],
   "source": [
    "df_student = pd.DataFrame(student, columns=[\"name\", \"grade\", \"age\"])\n",
    "df_student.sort_values(by=\"age\").head(10)"
   ]
  },
  {
   "cell_type": "code",
   "execution_count": 5,
   "metadata": {},
   "outputs": [
    {
     "name": "stdout",
     "output_type": "stream",
     "text": [
      "[['Emanuel' 6 16]\n",
      " ['Ana' 7 17]\n",
      " ['Joice' 3 16]\n",
      " ['César' 2 21]\n",
      " ['Pedro' 8 24]\n",
      " ['Jorge' 9 27]\n",
      " ['Clara' 10 17]\n",
      " ['Evelin' 4 18]]\n",
      "name     object\n",
      "grade     int64\n",
      "age       int64\n",
      "dtype: object\n"
     ]
    }
   ],
   "source": [
    "print(df_student.values)\n",
    "print(df_student.dtypes)"
   ]
  },
  {
   "cell_type": "code",
   "execution_count": 6,
   "metadata": {},
   "outputs": [
    {
     "name": "stdout",
     "output_type": "stream",
     "text": [
      "Index(['name', 'grade', 'age'], dtype='object')\n",
      "0    Emanuel\n",
      "1        Ana\n",
      "2      Joice\n",
      "3      César\n",
      "4      Pedro\n",
      "5      Jorge\n",
      "6      Clara\n",
      "7     Evelin\n",
      "Name: name, dtype: object\n",
      "      name  age\n",
      "0  Emanuel   16\n",
      "1      Ana   17\n",
      "2    Joice   16\n",
      "3    César   21\n",
      "4    Pedro   24\n",
      "5    Jorge   27\n",
      "6    Clara   17\n",
      "7   Evelin   18\n",
      "    name  grade  age\n",
      "1    Ana      7   17\n",
      "2  Joice      3   16\n",
      "    name  grade  age\n",
      "1    Ana      7   17\n",
      "2  Joice      3   16\n",
      "Empty DataFrame\n",
      "Columns: [name, grade, age]\n",
      "Index: []\n"
     ]
    }
   ],
   "source": [
    "print(df_student.columns)\n",
    "print(df_student[\"name\"])\n",
    "print(df_student[[\"name\", \"age\"]])\n",
    "print(df_student.filter(items=[1, 2], axis=0))\n",
    "print(df_student[1:3])\n",
    "print(df_student[df_student[\"age\"] > 29])"
   ]
  },
  {
   "cell_type": "markdown",
   "metadata": {},
   "source": [
    "### Position Measurements"
   ]
  },
  {
   "cell_type": "code",
   "execution_count": 7,
   "metadata": {},
   "outputs": [
    {
     "name": "stdout",
     "output_type": "stream",
     "text": [
      "19.5\n",
      "17.5\n",
      "0    16\n",
      "1    17\n",
      "Name: age, dtype: int64\n"
     ]
    }
   ],
   "source": [
    "# mean\n",
    "print(df_student[\"age\"].mean())\n",
    "\n",
    "# median\n",
    "print(df_student[\"age\"].median())\n",
    "\n",
    "# mode\n",
    "print(df_student[\"age\"].mode())"
   ]
  },
  {
   "cell_type": "markdown",
   "metadata": {},
   "source": [
    "### Dispersion Measures"
   ]
  },
  {
   "cell_type": "code",
   "execution_count": 8,
   "metadata": {},
   "outputs": [
    {
     "name": "stdout",
     "output_type": "stream",
     "text": [
      "16.857142857142858\n",
      "4.105745103771404\n",
      "0.21055103096263608\n"
     ]
    }
   ],
   "source": [
    "# variance\n",
    "print(df_student[\"age\"].var())\n",
    "\n",
    "# standard deviation\n",
    "print(df_student[\"age\"].std())\n",
    "\n",
    "# coefficient variation\n",
    "print(df_student[\"age\"].std() / df_student[\"age\"].mean()) "
   ]
  },
  {
   "cell_type": "code",
   "execution_count": 9,
   "metadata": {},
   "outputs": [
    {
     "name": "stdout",
     "output_type": "stream",
     "text": [
      "           grade        age\n",
      "count   8.000000   8.000000\n",
      "mean    6.125000  19.500000\n",
      "std     2.900123   4.105745\n",
      "min     2.000000  16.000000\n",
      "25%     3.750000  16.750000\n",
      "50%     6.500000  17.500000\n",
      "75%     8.250000  21.750000\n",
      "max    10.000000  27.000000\n"
     ]
    }
   ],
   "source": [
    "print(df_student.describe())"
   ]
  },
  {
   "cell_type": "markdown",
   "metadata": {},
   "source": [
    "###  Shape Measurements"
   ]
  },
  {
   "cell_type": "markdown",
   "metadata": {},
   "source": [
    "#### Asymmetric"
   ]
  },
  {
   "cell_type": "markdown",
   "metadata": {},
   "source": [
    "![Asymmetric](../images/skewness.png)"
   ]
  },
  {
   "cell_type": "code",
   "execution_count": 10,
   "metadata": {},
   "outputs": [
    {
     "name": "stdout",
     "output_type": "stream",
     "text": [
      "1.0898329433739666\n",
      "-0.16471955901384874\n"
     ]
    }
   ],
   "source": [
    "skewness_age = df_student[\"age\"].skew()\n",
    "skewness_grade = df_student[\"grade\"].skew()\n",
    "print(skewness_age)\n",
    "print(skewness_grade)"
   ]
  },
  {
   "cell_type": "code",
   "execution_count": 11,
   "metadata": {},
   "outputs": [
    {
     "data": {
      "image/png": "[encoded data removed]",
      "text/plain": [
       "<Figure size 640x480 with 1 Axes>"
      ]
     },
     "metadata": {},
     "output_type": "display_data"
    }
   ],
   "source": [
    "import matplotlib.pyplot as plt\n",
    "\n",
    "plt.hist(df_student[\"age\"], bins=5, color='skyblue', edgecolor='black')\n",
    "plt.title(f'Age Distribution (Asymmetry: {skewness_age:.2f})')\n",
    "plt.xlabel('Age')\n",
    "plt.ylabel('Frequency')\n",
    "plt.show()"
   ]
  },
  {
   "cell_type": "markdown",
   "metadata": {},
   "source": [
    "### Kurtosis\n",
    "\n",
    "![kurtosis](../images/kurtosis.png)"
   ]
  },
  {
   "cell_type": "code",
   "execution_count": 12,
   "metadata": {},
   "outputs": [
    {
     "name": "stdout",
     "output_type": "stream",
     "text": [
      "-0.11904625107727718\n",
      "-1.4490161872692608\n"
     ]
    }
   ],
   "source": [
    "print(df_student[\"age\"].kurtosis())\n",
    "print(df_student[\"grade\"].kurtosis())"
   ]
  },
  {
   "cell_type": "markdown",
   "metadata": {},
   "source": [
    "### Correlation Coefficient"
   ]
  },
  {
   "cell_type": "code",
   "execution_count": 14,
   "metadata": {},
   "outputs": [
    {
     "data": {
      "text/plain": [
       "0.31793578345695767"
      ]
     },
     "execution_count": 14,
     "metadata": {},
     "output_type": "execute_result"
    }
   ],
   "source": [
    "df_student[\"age\"].corr(df_student[\"grade\"])"
   ]
  }
 ],
 "metadata": {
  "kernelspec": {
   "display_name": "Python 3",
   "language": "python",
   "name": "python3"
  },
  "language_info": {
   "codemirror_mode": {
    "name": "ipython",
    "version": 3
   },
   "file_extension": ".py",
   "mimetype": "text/x-python",
   "name": "python",
   "nbconvert_exporter": "python",
   "pygments_lexer": "ipython3",
   "version": "3.10.11"
  },
  "orig_nbformat": 4
 },
 "nbformat": 4,
 "nbformat_minor": 2
}
