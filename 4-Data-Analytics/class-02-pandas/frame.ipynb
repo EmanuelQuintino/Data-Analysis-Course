{
 "cells": [
  {
   "cell_type": "code",
   "execution_count": 2,
   "metadata": {},
   "outputs": [],
   "source": [
    "import pandas as pd"
   ]
  },
  {
   "cell_type": "code",
   "execution_count": 3,
   "metadata": {},
   "outputs": [],
   "source": [
    "student = {\"name\": [\"Emanuel\", \"Ana\", \"Joice\", \"César\"],\n",
    "           \"age\": [30, 25, 28, 41]}"
   ]
  },
  {
   "cell_type": "code",
   "execution_count": 4,
   "metadata": {},
   "outputs": [],
   "source": [
    "frame = pd.DataFrame(student, columns=[\"age\", \"name\"])"
   ]
  },
  {
   "cell_type": "code",
   "execution_count": 5,
   "metadata": {},
   "outputs": [
    {
     "data": {
      "text/html": [
       "<div>\n",
       "<style scoped>\n",
       "    .dataframe tbody tr th:only-of-type {\n",
       "        vertical-align: middle;\n",
       "    }\n",
       "\n",
       "    .dataframe tbody tr th {\n",
       "        vertical-align: top;\n",
       "    }\n",
       "\n",
       "    .dataframe thead th {\n",
       "        text-align: right;\n",
       "    }\n",
       "</style>\n",
       "<table border=\"1\" class=\"dataframe\">\n",
       "  <thead>\n",
       "    <tr style=\"text-align: right;\">\n",
       "      <th></th>\n",
       "      <th>age</th>\n",
       "      <th>name</th>\n",
       "    </tr>\n",
       "  </thead>\n",
       "  <tbody>\n",
       "    <tr>\n",
       "      <th>0</th>\n",
       "      <td>30</td>\n",
       "      <td>Emanuel</td>\n",
       "    </tr>\n",
       "    <tr>\n",
       "      <th>1</th>\n",
       "      <td>25</td>\n",
       "      <td>Ana</td>\n",
       "    </tr>\n",
       "    <tr>\n",
       "      <th>2</th>\n",
       "      <td>28</td>\n",
       "      <td>Joice</td>\n",
       "    </tr>\n",
       "  </tbody>\n",
       "</table>\n",
       "</div>"
      ],
      "text/plain": [
       "   age     name\n",
       "0   30  Emanuel\n",
       "1   25      Ana\n",
       "2   28    Joice"
      ]
     },
     "execution_count": 5,
     "metadata": {},
     "output_type": "execute_result"
    }
   ],
   "source": [
    "frame.head(3)"
   ]
  },
  {
   "cell_type": "code",
   "execution_count": 23,
   "metadata": {},
   "outputs": [
    {
     "name": "stdout",
     "output_type": "stream",
     "text": [
      "[[30 'Emanuel']\n",
      " [25 'Ana']\n",
      " [28 'Joice']\n",
      " [41 'César']]\n",
      "age      int64\n",
      "name    object\n",
      "dtype: object\n",
      "            age\n",
      "count   4.00000\n",
      "mean   31.00000\n",
      "std     6.97615\n",
      "min    25.00000\n",
      "25%    27.25000\n",
      "50%    29.00000\n",
      "75%    32.75000\n",
      "max    41.00000\n"
     ]
    }
   ],
   "source": [
    "print(frame.values)\n",
    "print(frame.dtypes)\n",
    "print(frame.describe())\n"
   ]
  },
  {
   "cell_type": "code",
   "execution_count": 24,
   "metadata": {},
   "outputs": [
    {
     "name": "stdout",
     "output_type": "stream",
     "text": [
      "Index(['age', 'name'], dtype='object')\n",
      "0    Emanuel\n",
      "1        Ana\n",
      "2      Joice\n",
      "3      César\n",
      "Name: name, dtype: object\n",
      "      name  age\n",
      "0  Emanuel   30\n",
      "1      Ana   25\n",
      "2    Joice   28\n",
      "3    César   41\n",
      "   age   name\n",
      "1   25    Ana\n",
      "2   28  Joice\n",
      "   age   name\n",
      "1   25    Ana\n",
      "2   28  Joice\n",
      "   age     name\n",
      "0   30  Emanuel\n",
      "3   41    César\n"
     ]
    }
   ],
   "source": [
    "print(frame.columns)\n",
    "print(frame[\"name\"])\n",
    "print(frame[[\"name\", \"age\"]])\n",
    "print(frame.filter(items=[1, 2], axis=0))\n",
    "print(frame[1:3])\n",
    "print(frame[frame[\"age\"] > 29])\n"
   ]
  }
 ],
 "metadata": {
  "kernelspec": {
   "display_name": "Python 3",
   "language": "python",
   "name": "python3"
  },
  "language_info": {
   "codemirror_mode": {
    "name": "ipython",
    "version": 3
   },
   "file_extension": ".py",
   "mimetype": "text/x-python",
   "name": "python",
   "nbconvert_exporter": "python",
   "pygments_lexer": "ipython3",
   "version": "3.10.11"
  },
  "orig_nbformat": 4
 },
 "nbformat": 4,
 "nbformat_minor": 2
}
