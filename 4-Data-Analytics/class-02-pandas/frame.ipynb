{
 "cells": [
  {
   "cell_type": "code",
   "execution_count": 19,
   "metadata": {},
   "outputs": [],
   "source": [
    "import pandas as pd"
   ]
  },
  {
   "cell_type": "code",
   "execution_count": 20,
   "metadata": {},
   "outputs": [],
   "source": [
    "student = {\"name\": [\"Emanuel\", \"Ana\", \"Joice\", \"César\"],\n",
    "           \"age\": [30, 25, 28, 41]}"
   ]
  },
  {
   "cell_type": "code",
   "execution_count": 21,
   "metadata": {},
   "outputs": [],
   "source": [
    "frame = pd.DataFrame(student, columns=[\"age\", \"name\"])"
   ]
  },
  {
   "cell_type": "code",
   "execution_count": 22,
   "metadata": {},
   "outputs": [
    {
     "name": "stdout",
     "output_type": "stream",
     "text": [
      "   age     name\n",
      "0   30  Emanuel\n",
      "1   25      Ana\n",
      "2   28    Joice\n"
     ]
    }
   ],
   "source": [
    "print(frame.head(3))"
   ]
  },
  {
   "cell_type": "code",
   "execution_count": 23,
   "metadata": {},
   "outputs": [
    {
     "name": "stdout",
     "output_type": "stream",
     "text": [
      "[[30 'Emanuel']\n",
      " [25 'Ana']\n",
      " [28 'Joice']\n",
      " [41 'César']]\n",
      "age      int64\n",
      "name    object\n",
      "dtype: object\n",
      "            age\n",
      "count   4.00000\n",
      "mean   31.00000\n",
      "std     6.97615\n",
      "min    25.00000\n",
      "25%    27.25000\n",
      "50%    29.00000\n",
      "75%    32.75000\n",
      "max    41.00000\n"
     ]
    }
   ],
   "source": [
    "print(frame.values)\n",
    "print(frame.dtypes)\n",
    "print(frame.describe())\n"
   ]
  },
  {
   "cell_type": "code",
   "execution_count": 24,
   "metadata": {},
   "outputs": [
    {
     "name": "stdout",
     "output_type": "stream",
     "text": [
      "Index(['age', 'name'], dtype='object')\n",
      "0    Emanuel\n",
      "1        Ana\n",
      "2      Joice\n",
      "3      César\n",
      "Name: name, dtype: object\n",
      "      name  age\n",
      "0  Emanuel   30\n",
      "1      Ana   25\n",
      "2    Joice   28\n",
      "3    César   41\n",
      "   age   name\n",
      "1   25    Ana\n",
      "2   28  Joice\n",
      "   age   name\n",
      "1   25    Ana\n",
      "2   28  Joice\n",
      "   age     name\n",
      "0   30  Emanuel\n",
      "3   41    César\n"
     ]
    }
   ],
   "source": [
    "print(frame.columns)\n",
    "print(frame[\"name\"])\n",
    "print(frame[[\"name\", \"age\"]])\n",
    "print(frame.filter(items=[1, 2], axis=0))\n",
    "print(frame[1:3])\n",
    "print(frame[frame[\"age\"] > 29])\n"
   ]
  }
 ],
 "metadata": {
  "kernelspec": {
   "display_name": "Python 3",
   "language": "python",
   "name": "python3"
  },
  "language_info": {
   "codemirror_mode": {
    "name": "ipython",
    "version": 3
   },
   "file_extension": ".py",
   "mimetype": "text/x-python",
   "name": "python",
   "nbconvert_exporter": "python",
   "pygments_lexer": "ipython3",
   "version": "3.10.11"
  },
  "orig_nbformat": 4
 },
 "nbformat": 4,
 "nbformat_minor": 2
}
