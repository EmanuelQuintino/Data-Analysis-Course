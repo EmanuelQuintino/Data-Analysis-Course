{
 "cells": [
  {
   "cell_type": "markdown",
   "id": "f313c42a",
   "metadata": {},
   "source": [
    "## Pergunta de Negócio 8 (Desafio Nível Master):\n",
    "\n",
    "### Considere Que a Empresa Decida Conceder o Desconto de 15% do Item Anterior. Qual Seria a Média do Valor de Venda Antes e Depois do Desconto?"
   ]
  },
  {
   "cell_type": "code",
   "execution_count": null,
   "id": "47b8f2a4",
   "metadata": {},
   "outputs": [],
   "source": []
  },
  {
   "cell_type": "markdown",
   "id": "149e1214",
   "metadata": {},
   "source": [
    "## Pergunta de Negócio 9 (Desafio Nível Master Ninja):\n",
    "\n",
    "### Qual o Média de Vendas Por Segmento, Por Ano e Por Mês?\n",
    "\n",
    "Demonstre o resultado através de gráfico de linha."
   ]
  },
  {
   "cell_type": "code",
   "execution_count": null,
   "id": "1eed1a02",
   "metadata": {},
   "outputs": [],
   "source": []
  },
  {
   "cell_type": "markdown",
   "id": "836ba626",
   "metadata": {},
   "source": [
    "## Pergunta de Negócio 10 (Desafio Nível Master Ninja das Galáxias):\n",
    "\n",
    "### Qual o Total de Vendas Por Categoria e SubCategoria, Considerando Somente as Top 12 SubCategorias? \n",
    "\n",
    "Demonstre tudo através de um único gráfico."
   ]
  },
  {
   "cell_type": "code",
   "execution_count": null,
   "id": "53808b99",
   "metadata": {},
   "outputs": [],
   "source": []
  },
  {
   "cell_type": "markdown",
   "id": "9b22cb7c",
   "metadata": {},
   "source": [
    "# Fim"
   ]
  }
 ],
 "metadata": {
  "kernelspec": {
   "display_name": "Python 3 (ipykernel)",
   "language": "python",
   "name": "python3"
  },
  "language_info": {
   "codemirror_mode": {
    "name": "ipython",
    "version": 3
   },
   "file_extension": ".py",
   "mimetype": "text/x-python",
   "name": "python",
   "nbconvert_exporter": "python",
   "pygments_lexer": "ipython3",
   "version": "3.9.13"
  }
 },
 "nbformat": 4,
 "nbformat_minor": 5
}
