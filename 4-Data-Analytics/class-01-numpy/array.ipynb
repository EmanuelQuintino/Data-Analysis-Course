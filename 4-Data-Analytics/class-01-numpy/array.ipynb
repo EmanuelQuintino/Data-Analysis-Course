{
 "cells": [
  {
   "cell_type": "code",
   "execution_count": 52,
   "metadata": {},
   "outputs": [],
   "source": [
    "import numpy as np"
   ]
  },
  {
   "cell_type": "code",
   "execution_count": 53,
   "metadata": {},
   "outputs": [],
   "source": [
    "array = np.array([1, 22, 3, 53, 7, 10])"
   ]
  },
  {
   "cell_type": "code",
   "execution_count": 54,
   "metadata": {},
   "outputs": [
    {
     "name": "stdout",
     "output_type": "stream",
     "text": [
      "[ 1 22  3 53  7 10]\n",
      "1\n",
      "22\n",
      "[ 1 22  3]\n",
      "<class 'numpy.ndarray'>\n",
      "(6,)\n"
     ]
    }
   ],
   "source": [
    "print(array)\n",
    "print(array.ndim)\n",
    "print(array[1])\n",
    "print(array[0: 3])\n",
    "print(type(array))\n",
    "print(array.shape)"
   ]
  },
  {
   "cell_type": "code",
   "execution_count": 55,
   "metadata": {},
   "outputs": [
    {
     "data": {
      "text/plain": [
       "array([ 1, 53, 10])"
      ]
     },
     "execution_count": 55,
     "metadata": {},
     "output_type": "execute_result"
    }
   ],
   "source": [
    "array_index = [0, 3, 5]\n",
    "array[array_index]"
   ]
  },
  {
   "cell_type": "markdown",
   "metadata": {},
   "source": [
    "![array_numpy](../images/array_numpy.png)"
   ]
  },
  {
   "cell_type": "code",
   "execution_count": 56,
   "metadata": {},
   "outputs": [],
   "source": [
    "array_2D = np.array([[1, 2, 3], [4, 5, 6]])"
   ]
  },
  {
   "cell_type": "code",
   "execution_count": 57,
   "metadata": {},
   "outputs": [
    {
     "name": "stdout",
     "output_type": "stream",
     "text": [
      "[[1 2 3]\n",
      " [4 5 6]]\n",
      "2\n",
      "<class 'numpy.ndarray'>\n",
      "(2, 3)\n"
     ]
    }
   ],
   "source": [
    "print(array_2D)\n",
    "print(array_2D.ndim)\n",
    "print(type(array_2D))\n",
    "print(array_2D.shape)"
   ]
  },
  {
   "cell_type": "code",
   "execution_count": 58,
   "metadata": {},
   "outputs": [
    {
     "name": "stdout",
     "output_type": "stream",
     "text": [
      "6\n",
      "5\n",
      "3\n",
      "1\n",
      "[3 6]\n",
      "[4 5 6]\n",
      "[4 5 6]\n"
     ]
    }
   ],
   "source": [
    "print(array_2D.size)\n",
    "print(array_2D[1, 1])\n",
    "print(array_2D[0, 2])\n",
    "print(array_2D[0, 0])\n",
    "print(array_2D[0:2, 2])\n",
    "print(array_2D[1])\n",
    "print(array_2D[1])"
   ]
  },
  {
   "cell_type": "code",
   "execution_count": 59,
   "metadata": {},
   "outputs": [
    {
     "name": "stdout",
     "output_type": "stream",
     "text": [
      "[[ 1  2  3]\n",
      " [ 4  5 10]]\n"
     ]
    }
   ],
   "source": [
    "array_2D[1, 2] = 10\n",
    "print(array_2D)"
   ]
  },
  {
   "cell_type": "code",
   "execution_count": 60,
   "metadata": {},
   "outputs": [],
   "source": [
    "array_3D = np.array([[[1, 2, 3], [4, 5, 6]], [[7, 8, 9], [10, 11, 12]]])"
   ]
  },
  {
   "cell_type": "code",
   "execution_count": 61,
   "metadata": {},
   "outputs": [
    {
     "name": "stdout",
     "output_type": "stream",
     "text": [
      "[[[ 1  2  3]\n",
      "  [ 4  5  6]]\n",
      "\n",
      " [[ 7  8  9]\n",
      "  [10 11 12]]]\n",
      "3\n",
      "<class 'numpy.ndarray'>\n",
      "(2, 2, 3)\n"
     ]
    }
   ],
   "source": [
    "print(array_3D)\n",
    "print(array_3D.ndim)\n",
    "print(type(array_3D))\n",
    "print(array_3D.shape)"
   ]
  },
  {
   "cell_type": "code",
   "execution_count": 62,
   "metadata": {},
   "outputs": [
    {
     "name": "stdout",
     "output_type": "stream",
     "text": [
      "12\n",
      "[10 11 12]\n",
      "[1 2 3]\n",
      "9\n",
      "[10 11]\n",
      "[[ 7  8  9]\n",
      " [10 11 12]]\n"
     ]
    }
   ],
   "source": [
    "print(array_3D.size)\n",
    "print(array_3D[1, 1])\n",
    "print(array_3D[0, 0])\n",
    "print(array_3D[1, 0, 2])\n",
    "print(array_3D[1, 1, 0:2])\n",
    "print(array_3D[1])"
   ]
  },
  {
   "cell_type": "code",
   "execution_count": 63,
   "metadata": {},
   "outputs": [
    {
     "name": "stdout",
     "output_type": "stream",
     "text": [
      "[[[ 1  2  3]\n",
      "  [ 4  5  6]]\n",
      "\n",
      " [[ 7  8  9]\n",
      "  [10 11 20]]]\n"
     ]
    }
   ],
   "source": [
    "array_3D[1, 1, 2] = 20\n",
    "print(array_3D)"
   ]
  },
  {
   "cell_type": "code",
   "execution_count": 64,
   "metadata": {},
   "outputs": [],
   "source": [
    "import time"
   ]
  },
  {
   "cell_type": "code",
   "execution_count": 65,
   "metadata": {},
   "outputs": [
    {
     "name": "stdout",
     "output_type": "stream",
     "text": [
      "A soma total é: 499999500000\n",
      "Tempo total de 239.59 milissegundos\n"
     ]
    }
   ],
   "source": [
    "array_test = range(1, 1000000)\n",
    "\n",
    "start_time = time.time()\n",
    "\n",
    "sum = 0\n",
    "for i in array_test:\n",
    "  sum += i\n",
    "\n",
    "end_time = time.time()\n",
    "\n",
    "print(f\"A soma total é: {sum}\")\n",
    "print(f\"Tempo total de {(end_time - start_time) * 1000:.2f} milissegundos\")"
   ]
  },
  {
   "cell_type": "code",
   "execution_count": 66,
   "metadata": {},
   "outputs": [
    {
     "name": "stdout",
     "output_type": "stream",
     "text": [
      "int32\n",
      "int64\n",
      "A soma total é: 499999500000\n",
      "Tempo total de 1.00 milissegundos\n"
     ]
    }
   ],
   "source": [
    "array_numpy = np.arange(1, 1000000)\n",
    "print(array_numpy.dtype)\n",
    "\n",
    "array_numpy_int64 = array_numpy.astype(np.int64)\n",
    "print(array_numpy_int64.dtype)\n",
    "\n",
    "start_time = time.time()\n",
    "\n",
    "sum_numpy = np.sum(array_numpy_int64)\n",
    "\n",
    "end_time = time.time()\n",
    "\n",
    "print(f\"A soma total é: {sum_numpy}\")\n",
    "print(f\"Tempo total de {(end_time - start_time) * 1000:.2f} milissegundos\")"
   ]
  }
 ],
 "metadata": {
  "kernelspec": {
   "display_name": "Python 3",
   "language": "python",
   "name": "python3"
  },
  "language_info": {
   "codemirror_mode": {
    "name": "ipython",
    "version": 3
   },
   "file_extension": ".py",
   "mimetype": "text/x-python",
   "name": "python",
   "nbconvert_exporter": "python",
   "pygments_lexer": "ipython3",
   "version": "3.10.11"
  },
  "orig_nbformat": 4
 },
 "nbformat": 4,
 "nbformat_minor": 2
}
