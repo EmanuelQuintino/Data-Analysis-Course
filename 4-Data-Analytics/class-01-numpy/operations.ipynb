{
 "cells": [
  {
   "cell_type": "markdown",
   "metadata": {},
   "source": [
    "## Operations"
   ]
  },
  {
   "cell_type": "code",
   "execution_count": 50,
   "metadata": {},
   "outputs": [],
   "source": [
    "import numpy as np"
   ]
  },
  {
   "cell_type": "code",
   "execution_count": 51,
   "metadata": {},
   "outputs": [],
   "source": [
    "array = np.array([18, 23, 35, 14, 25, 45, 80, 91])"
   ]
  },
  {
   "cell_type": "markdown",
   "metadata": {},
   "source": [
    "Statistics"
   ]
  },
  {
   "cell_type": "code",
   "execution_count": 52,
   "metadata": {},
   "outputs": [
    {
     "name": "stdout",
     "output_type": "stream",
     "text": [
      "41.375\n",
      "27.179668412252568\n",
      "738.734375\n",
      "30.0\n",
      "91\n",
      "14\n",
      "21.75\n",
      "30.0\n",
      "53.75\n"
     ]
    }
   ],
   "source": [
    "print(np.mean(array))\n",
    "print(np.std(array))\n",
    "print(np.var(array))\n",
    "print(np.median(array))\n",
    "print(np.max(array))\n",
    "print(np.min(array))\n",
    "print(np.percentile(array, 25))\n",
    "print(np.percentile(array, 50))\n",
    "print(np.percentile(array, 75))"
   ]
  },
  {
   "cell_type": "markdown",
   "metadata": {},
   "source": [
    "Mathematic"
   ]
  },
  {
   "cell_type": "code",
   "execution_count": 53,
   "metadata": {},
   "outputs": [
    {
     "name": "stdout",
     "output_type": "stream",
     "text": [
      "331\n",
      "[ 18  41  76  90 115 160 240 331]\n",
      "1661423400000\n",
      "[           18           414         14490        202860       5071500\n",
      "     228217500   18257400000 1661423400000]\n"
     ]
    }
   ],
   "source": [
    "print(np.sum(array))\n",
    "print(np.cumsum(array))\n",
    "print(np.prod(array, dtype=np.int64))\n",
    "print(np.cumprod(array, dtype=np.int64))"
   ]
  },
  {
   "cell_type": "code",
   "execution_count": 54,
   "metadata": {},
   "outputs": [],
   "source": [
    "array1 = [1, 2, 3]\n",
    "array2 = [4, 5, 6]"
   ]
  },
  {
   "cell_type": "code",
   "execution_count": 55,
   "metadata": {},
   "outputs": [
    {
     "name": "stdout",
     "output_type": "stream",
     "text": [
      "[5 7 9]\n",
      "<class 'numpy.ndarray'>\n",
      "[5, 7, 9]\n",
      "<class 'list'>\n"
     ]
    }
   ],
   "source": [
    "sum_ndarray = np.add(array1, array2)\n",
    "print(sum_ndarray)\n",
    "print(type(sum_ndarray))\n",
    "\n",
    "sum_arrays = list(map(lambda x, y: x + y, array1, array2)) \n",
    "print(sum_arrays)\n",
    "print(type(sum_arrays))"
   ]
  },
  {
   "cell_type": "code",
   "execution_count": 56,
   "metadata": {},
   "outputs": [
    {
     "name": "stdout",
     "output_type": "stream",
     "text": [
      "32\n",
      "<class 'numpy.int32'>\n",
      "[4, 10, 18]\n",
      "<class 'list'>\n"
     ]
    }
   ],
   "source": [
    "prod_ndarray = np.dot(array1, array2)\n",
    "print(prod_ndarray)\n",
    "print(type(prod_ndarray))\n",
    "\n",
    "prod_arrays = list(map(lambda x, y: x * y, array1, array2)) \n",
    "print(prod_arrays)\n",
    "print(type(prod_arrays))"
   ]
  }
 ],
 "metadata": {
  "kernelspec": {
   "display_name": "Python 3",
   "language": "python",
   "name": "python3"
  },
  "language_info": {
   "codemirror_mode": {
    "name": "ipython",
    "version": 3
   },
   "file_extension": ".py",
   "mimetype": "text/x-python",
   "name": "python",
   "nbconvert_exporter": "python",
   "pygments_lexer": "ipython3",
   "version": "3.10.11"
  },
  "orig_nbformat": 4
 },
 "nbformat": 4,
 "nbformat_minor": 2
}
